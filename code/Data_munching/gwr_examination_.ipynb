{
 "cells": [
  {
   "cell_type": "code",
   "execution_count": 2,
   "metadata": {},
   "outputs": [
    {
     "ename": "ImportError",
     "evalue": "cannot import name 'Sel_BW_MGWR' from 'mgwr.sel_bw' (/home/ajruben/miniforge3/envs/rapids-25.02/lib/python3.11/site-packages/mgwr/sel_bw.py)",
     "output_type": "error",
     "traceback": [
      "\u001b[31m---------------------------------------------------------------------------\u001b[39m",
      "\u001b[31mImportError\u001b[39m                               Traceback (most recent call last)",
      "\u001b[36mCell\u001b[39m\u001b[36m \u001b[39m\u001b[32mIn[2]\u001b[39m\u001b[32m, line 3\u001b[39m\n\u001b[32m      1\u001b[39m \u001b[38;5;28;01mimport\u001b[39;00m\u001b[38;5;250m \u001b[39m\u001b[34;01mnumpy\u001b[39;00m\u001b[38;5;250m \u001b[39m\u001b[38;5;28;01mas\u001b[39;00m\u001b[38;5;250m \u001b[39m\u001b[34;01mnp\u001b[39;00m\n\u001b[32m      2\u001b[39m \u001b[38;5;28;01mfrom\u001b[39;00m\u001b[38;5;250m \u001b[39m\u001b[34;01mmgwr\u001b[39;00m\u001b[34;01m.\u001b[39;00m\u001b[34;01mgwr\u001b[39;00m\u001b[38;5;250m \u001b[39m\u001b[38;5;28;01mimport\u001b[39;00m GWR, MGWR\n\u001b[32m----> \u001b[39m\u001b[32m3\u001b[39m \u001b[38;5;28;01mfrom\u001b[39;00m\u001b[38;5;250m \u001b[39m\u001b[34;01mmgwr\u001b[39;00m\u001b[34;01m.\u001b[39;00m\u001b[34;01msel_bw\u001b[39;00m\u001b[38;5;250m \u001b[39m\u001b[38;5;28;01mimport\u001b[39;00m Sel_BW, Sel_BW_MGWR\n\u001b[32m      4\u001b[39m \u001b[38;5;28;01mimport\u001b[39;00m\u001b[38;5;250m \u001b[39m\u001b[34;01mmatplotlib\u001b[39;00m\u001b[34;01m.\u001b[39;00m\u001b[34;01mpyplot\u001b[39;00m\u001b[38;5;250m \u001b[39m\u001b[38;5;28;01mas\u001b[39;00m\u001b[38;5;250m \u001b[39m\u001b[34;01mplt\u001b[39;00m\n\u001b[32m      6\u001b[39m \u001b[38;5;66;03m# Generate synthetic data (same for both models)\u001b[39;00m\n",
      "\u001b[31mImportError\u001b[39m: cannot import name 'Sel_BW_MGWR' from 'mgwr.sel_bw' (/home/ajruben/miniforge3/envs/rapids-25.02/lib/python3.11/site-packages/mgwr/sel_bw.py)"
     ]
    }
   ],
   "source": [
    "import numpy as np\n",
    "from mgwr.gwr import GWR, MGWR\n",
    "from mgwr.sel_bw import Sel_BW, Sel_BW_MGWR\n",
    "import matplotlib.pyplot as plt\n",
    "\n",
    "# Generate synthetic data (same for both models)\n",
    "n = 10000   # Number of observations\n",
    "p = 3       # Number of predictors\n",
    "np.random.seed(42)  # For reproducibility\n",
    "\n",
    "# Create random independent variables and dependent variable\n",
    "X = np.random.rand(n, p)\n",
    "y = np.random.rand(n, 1)\n",
    "\n",
    "# Create random spatial coordinates (e.g., longitude and latitude)\n",
    "coords = np.random.rand(n, 2)\n",
    "\n",
    "# ============================\n",
    "# Fit standard GWR (single bandwidth)\n",
    "# ============================\n",
    "bw_selector_gwr = Sel_BW(coords, y, X)\n",
    "bw_gwr = bw_selector_gwr.search(bw_min=2)\n",
    "print(\"Optimal bandwidth (GWR):\", bw_gwr)\n",
    "\n",
    "gwr_model = GWR(coords, y, X, bw_gwr)\n",
    "gwr_results = gwr_model.fit()\n",
    "print(\"First 10 sets of GWR coefficients:\")\n",
    "print(gwr_results.params[:10])\n",
    "\n",
    "# ============================\n",
    "# Fit MGWR (multiple bandwidths)\n",
    "# ============================\n",
    "bw_selector_mgwr = Sel_BW_MGWR(coords, y, X)\n",
    "bw_mgwr = bw_selector_mgwr.search(bw_min=2)\n",
    "print(\"\\nOptimal bandwidths (MGWR):\", bw_mgwr)\n",
    "\n",
    "mgwr_model = MGWR(coords, y, X, bw_mgwr)\n",
    "mgwr_results = mgwr_model.fit()\n",
    "print(\"First 10 sets of MGWR coefficients:\")\n",
    "print(mgwr_results.params[:10])\n",
    "\n",
    "# ============================\n",
    "# Optional: Visualize the coefficient for the first predictor\n",
    "# ============================\n",
    "plt.figure(figsize=(12, 5))\n",
    "\n",
    "plt.subplot(1, 2, 1)\n",
    "plt.scatter(coords[:, 0], coords[:, 1], c=gwr_results.params[:, 0], cmap='viridis')\n",
    "plt.colorbar(label='Coefficient for X0')\n",
    "plt.xlabel('Longitude')\n",
    "plt.ylabel('Latitude')\n",
    "plt.title('GWR Coefficient (X0)')\n",
    "\n",
    "plt.subplot(1, 2, 2)\n",
    "plt.scatter(coords[:, 0], coords[:, 1], c=mgwr_results.params[:, 0], cmap='viridis')\n",
    "plt.colorbar(label='Coefficient for X0')\n",
    "plt.xlabel('Longitude')\n",
    "plt.ylabel('Latitude')\n",
    "plt.title('MGWR Coefficient (X0)')\n",
    "\n",
    "plt.tight_layout()\n",
    "plt.show()\n"
   ]
  }
 ],
 "metadata": {
  "kernelspec": {
   "display_name": "rapids-25.02",
   "language": "python",
   "name": "python3"
  },
  "language_info": {
   "codemirror_mode": {
    "name": "ipython",
    "version": 3
   },
   "file_extension": ".py",
   "mimetype": "text/x-python",
   "name": "python",
   "nbconvert_exporter": "python",
   "pygments_lexer": "ipython3",
   "version": "3.11.11"
  }
 },
 "nbformat": 4,
 "nbformat_minor": 2
}
